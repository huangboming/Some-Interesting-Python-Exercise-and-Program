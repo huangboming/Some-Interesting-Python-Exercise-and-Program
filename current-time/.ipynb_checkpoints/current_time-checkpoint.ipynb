{
 "cells": [
  {
   "cell_type": "code",
   "execution_count": 3,
   "metadata": {},
   "outputs": [
    {
     "name": "stdout",
     "output_type": "stream",
     "text": [
      "Now is 2020-6-27  10:17:47 GMT +0\n",
      "Now is 2020-6-27  18:17:47 GMT +8\n"
     ]
    }
   ],
   "source": [
    "# Think Python -- Chapter 5 Exercise 1\n",
    "\n",
    "# The time module provides a function, also named time, that returns the current Greenwich Mean Time in “the epoch”, \n",
    "# which is an arbitrary time used as a reference point. On UNIX systems, the epoch is 1 January 1970.\n",
    "# >>> import time\n",
    "# >>> time.time()\n",
    "#   1437746094.5735958\n",
    "# Write a script that reads the current time and converts it to a time of day in hours, minutes, and seconds, \n",
    "# plus the number of days since the epoch.\n",
    "\n",
    "\"\"\"判断今天的日期和当前的时间（GMT & UTC+8）--只用time.time()函数\"\"\"\n",
    "\n",
    "import time\n",
    "\n",
    "def is_leap(year): #判断year是否是闰年\n",
    "    return year % 4 == 0 and (year % 100 != 0 or year % 400 == 0)\n",
    "\n",
    "def todays_year(start_year, total_days): #计算今年年份\n",
    "    while total_days >= 366:\n",
    "        start_year += 1\n",
    "        if not is_leap(start_year):\n",
    "            total_days -= 365\n",
    "        else:\n",
    "            total_days -= 366\n",
    "            \n",
    "    return start_year\n",
    "\n",
    "def todays_month(start_year, total_days): #计算今天的月份和日期\n",
    "    total_month = 0\n",
    "    days = total_days\n",
    "    \n",
    "    while days >= 0:  # 计算从1970年1月到今天的总月份\n",
    "        if is_leap(start_year):\n",
    "            days_list = [31, 29, 31, 30, 31, 30, 31, 31, 30, 31, 30, 31]\n",
    "        else:\n",
    "            days_list = [31, 28, 31, 30, 31, 30, 31, 31, 30, 31, 30, 31]\n",
    "            \n",
    "        i = 0\n",
    "        while days >= 0 and 0 <= i < 12:\n",
    "            days -= days_list[i]\n",
    "            total_month += 1\n",
    "            i += 1\n",
    "        start_year += 1\n",
    "        \n",
    "    todays_month = int(total_month - (todays_year(start_year, total_days) - start_year) * 12) # 现在的月份 = 总月数 - 年数差 x 12\n",
    "    todays_day = int(days + days_list[todays_month]) # 现在的日期 = 剩下几天到下一个月1号（负数） + 这个月的天数\n",
    "    \n",
    "    \n",
    "    return [todays_month, todays_day] ## 返回今天的月份和日期\n",
    "\n",
    "\n",
    "\n",
    "def main():\n",
    "    total_seconds = time.time() ## time.time()返回从1970年1月到现在总共过了多少秒\n",
    "    total_minutes = time.time() // 60 ## 分 = 秒 / 60（向下取整，下同）\n",
    "    total_hours = total_minutes // 60 ## 小时 = 分 / 60\n",
    "    total_days = total_hours // 24 ##  天 = 小时 / 24\n",
    "    start_year = 1970 ## time.time()从1970年1月开始计算\n",
    "\n",
    "    todaysYear = todays_year(start_year, total_days) # 当前的年份\n",
    "    todaysMonth, todaysDay = todays_month(start_year, total_days) # 当前的月份和日期\n",
    "\n",
    "    nowsHour = int(total_hours - total_days * 24) # 现在的小时数 = 总小时数 - 总天数 * 24\n",
    "    nowsMinute = int(total_minutes - total_hours * 60) # 现在的分钟数 = 总分钟数 - 总小时数 * 60\n",
    "    nowsSecond = int(total_seconds - total_minutes * 60) # 现在的秒数 = 总秒数 - 总分钟数 * 60\n",
    "    \n",
    "    print(f\"Now is {todaysYear}-{todaysMonth}-{todaysDay}  {nowsHour}:{nowsMinute}:{nowsSecond} GMT\")\n",
    "    print(f\"Now is {todaysYear}-{todaysMonth}-{todaysDay}  {nowsHour + 8}:{nowsMinute}:{nowsSecond} UTC +8\")\n",
    "    \n",
    "if __name__ == \"__main__\":\n",
    "    main()"
   ]
  },
  {
   "cell_type": "code",
   "execution_count": null,
   "metadata": {},
   "outputs": [],
   "source": []
  }
 ],
 "metadata": {
  "kernelspec": {
   "display_name": "Python 3",
   "language": "python",
   "name": "python3"
  },
  "language_info": {
   "codemirror_mode": {
    "name": "ipython",
    "version": 3
   },
   "file_extension": ".py",
   "mimetype": "text/x-python",
   "name": "python",
   "nbconvert_exporter": "python",
   "pygments_lexer": "ipython3",
   "version": "3.7.4"
  }
 },
 "nbformat": 4,
 "nbformat_minor": 4
}
