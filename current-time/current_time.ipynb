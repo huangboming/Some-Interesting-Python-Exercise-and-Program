{
 "cells": [
  {
   "cell_type": "code",
   "execution_count": 1,
   "metadata": {},
   "outputs": [
    {
     "name": "stdout",
     "output_type": "stream",
     "text": [
      "Now is 2020-12-07  09:18:08 GMT\n",
      "Now is 2020-12-07  17:18:08 UTC +8\n"
     ]
    }
   ],
   "source": [
    "# Think Python -- Chapter 5 Exercise 1\n",
    "\n",
    "# The time module provides a function, also named time, that returns the current Greenwich Mean Time in “the epoch”, \n",
    "# which is an arbitrary time used as a reference point. On UNIX systems, the epoch is 1 January 1970.\n",
    "# >>> import time\n",
    "# >>> time.time()\n",
    "#   1437746094.5735958\n",
    "# Write a script that reads the current time and converts it to a time of day in hours, minutes, and seconds, \n",
    "# plus the number of days since the epoch.\n",
    "\n",
    "\"\"\"判断今天的日期和当前的时间（GMT & UTC+8）--只用time.time()函数\"\"\"\n",
    "\n",
    "import time\n",
    "\n",
    "def is_leap(year): #判断year是否是闰年\n",
    "    return year % 4 == 0 and (year % 100 != 0 or year % 400 == 0)\n",
    "\n",
    "def todays_year(start_year, total_days): #计算今年年份\n",
    "    while total_days >= 366:\n",
    "        start_year += 1\n",
    "        if not is_leap(start_year):\n",
    "            total_days -= 365\n",
    "        else:\n",
    "            total_days -= 366\n",
    "            \n",
    "    return start_year\n",
    "\n",
    "def todays_month(start_year, total_days): #计算今天的月份和日期\n",
    "    total_month = 0\n",
    "    days = total_days\n",
    "    \n",
    "    while days >= 0:  # 计算从1970年1月到今天的总月份\n",
    "        if is_leap(start_year):\n",
    "            days_list = [0, 31, 29, 31, 30, 31, 30, 31, 31, 30, 31, 30, 31]\n",
    "        else:\n",
    "            days_list = [0, 31, 28, 31, 30, 31, 30, 31, 31, 30, 31, 30, 31]\n",
    "            \n",
    "        month = 1\n",
    "        while days >= 0 and 1 <= month <= 12:\n",
    "            days -= days_list[month]\n",
    "            total_month += 1\n",
    "            month += 1\n",
    "        start_year += 1\n",
    "        \n",
    "    todays_month = total_month % 12 if total_month % 12 else 12 # 现在的月份 = 总月份除以12的余数\n",
    "    todays_day = int(days + days_list[todays_month]) # 现在的日期 = 剩下几天到下一个月1号（负数） + 这个月的天数\n",
    "    \n",
    "    \n",
    "    return [todays_month, todays_day] ## 返回今天的月份和日期\n",
    "\n",
    "\n",
    "\n",
    "def main():\n",
    "    total_seconds = time.time() \n",
    "    total_minutes, nowsSecond = divmod(time.time(), 60)\n",
    "    total_hours, nowsMinute = divmod(total_minutes, 60) \n",
    "    total_days, nowsHour = divmod(total_hours, 24)\n",
    "    start_year = 1970 \n",
    "\n",
    "    todaysYear = todays_year(start_year, total_days) # 当前的年份\n",
    "    todaysMonth, todaysDay = todays_month(start_year, total_days) # 当前的月份和日期\n",
    "\n",
    "    gmt_time_tuple = (todaysYear, todaysMonth, todaysDay, nowsHour, nowsMinute, nowsSecond)\n",
    "    utc_8_time_tuple = (todaysYear, todaysMonth, todaysDay, nowsHour+8, nowsMinute, nowsSecond)\n",
    "    \n",
    "    print(\"Now is %d-%.2d-%.2d  %.2d:%.2d:%.2d GMT\" % gmt_time_tuple) \n",
    "    print(\"Now is %d-%.2d-%.2d  %.2d:%.2d:%.2d UTC +8\" % utc_8_time_tuple)\n",
    "    \n",
    "if __name__ == \"__main__\":\n",
    "    main()"
   ]
  },
  {
   "cell_type": "code",
   "execution_count": null,
   "metadata": {},
   "outputs": [],
   "source": []
  }
 ],
 "metadata": {
  "kernelspec": {
   "display_name": "Python 3",
   "language": "python",
   "name": "python3"
  },
  "language_info": {
   "codemirror_mode": {
    "name": "ipython",
    "version": 3
   },
   "file_extension": ".py",
   "mimetype": "text/x-python",
   "name": "python",
   "nbconvert_exporter": "python",
   "pygments_lexer": "ipython3",
   "version": "3.8.3"
  }
 },
 "nbformat": 4,
 "nbformat_minor": 4
}
